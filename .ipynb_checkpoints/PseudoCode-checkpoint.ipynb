{
 "cells": [
  {
   "cell_type": "code",
   "execution_count": 3,
   "metadata": {},
   "outputs": [],
   "source": [
    "# Set up initial libraries and data\n",
    "\n",
    "# Bitcoin historics\n",
    "\n",
    "#USD Historics\n",
    "\n",
    "#Canada\n",
    "\n",
    "#Mexico"
   ]
  },
  {
   "cell_type": "code",
   "execution_count": 7,
   "metadata": {},
   "outputs": [],
   "source": [
    "#Compare (plot) volatilty of the 4 currencies \n",
    "\n",
    "#Pull historics from Canada, use currency converter to go from looney to USD.\n",
    "\n",
    "#Create csv file with new converted currency\n",
    "\n",
    "#Pull historics from Mexico, use currency converter to go from peso to USD\n",
    "\n",
    "#Create csv file with new converted currency\n"
   ]
  },
  {
   "cell_type": "code",
   "execution_count": 8,
   "metadata": {},
   "outputs": [],
   "source": [
    "#pull number of bitcoin atms for each country\n",
    "\n",
    "#Display differences in access via some sort of graph"
   ]
  },
  {
   "cell_type": "code",
   "execution_count": null,
   "metadata": {},
   "outputs": [],
   "source": [
    "#Correlation between bitcoin usage/atm and gdp\n",
    "\n",
    "#pull gdp stats over a time frame\n",
    "\n",
    "#pull # of bitcoin atms\n",
    "\n",
    "#Graph a scatter plot to show relation between gdp & access\n",
    "\n",
    "\n"
   ]
  },
  {
   "cell_type": "code",
   "execution_count": 6,
   "metadata": {},
   "outputs": [],
   "source": [
    "#Discover Cap \n",
    "#unsure what this means so i cant speak to what needs to be done"
   ]
  }
 ],
 "metadata": {
  "kernelspec": {
   "display_name": "Python 3",
   "language": "python",
   "name": "python3"
  },
  "language_info": {
   "codemirror_mode": {
    "name": "ipython",
    "version": 3
   },
   "file_extension": ".py",
   "mimetype": "text/x-python",
   "name": "python",
   "nbconvert_exporter": "python",
   "pygments_lexer": "ipython3",
   "version": "3.7.9"
  }
 },
 "nbformat": 4,
 "nbformat_minor": 4
}
