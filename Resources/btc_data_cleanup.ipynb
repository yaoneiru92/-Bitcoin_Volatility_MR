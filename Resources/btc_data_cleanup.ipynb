{
 "cells": [
  {
   "cell_type": "code",
   "execution_count": 2,
   "metadata": {},
   "outputs": [],
   "source": [
    "#Importing pandas and Path\n",
    "import pandas as pd\n",
    "from pathlib import Path"
   ]
  },
  {
   "cell_type": "code",
   "execution_count": 3,
   "metadata": {},
   "outputs": [],
   "source": [
    "#Importing json files from Postman\n",
    "btc_json = pd.read_json('bitcoin.json')\n",
    "peso_json = pd.read_json('MXN_peso.json')\n",
    "cad_json = pd.read_json('CAD_dollar.json')\n",
    "\n",
    "#Saving json files as CSV files\n",
    "btc_json.to_csv('btc_data.csv')\n",
    "peso_json.to_csv('peso_data.csv')\n",
    "cad_json.to_csv('cad_data.csv')"
   ]
  },
  {
   "cell_type": "code",
   "execution_count": 4,
   "metadata": {},
   "outputs": [],
   "source": [
    "#Setting variables for CSV files\n",
    "btc_data = pd.read_csv(Path('btc_data.csv'))\n",
    "peso_data = pd.read_csv(Path('peso_data.csv'))\n",
    "cad_data = pd.read_csv(Path('cad_data.csv'))"
   ]
  },
  {
   "cell_type": "code",
   "execution_count": 5,
   "metadata": {},
   "outputs": [
    {
     "data": {
      "text/html": [
       "<div>\n",
       "<style scoped>\n",
       "    .dataframe tbody tr th:only-of-type {\n",
       "        vertical-align: middle;\n",
       "    }\n",
       "\n",
       "    .dataframe tbody tr th {\n",
       "        vertical-align: top;\n",
       "    }\n",
       "\n",
       "    .dataframe thead th {\n",
       "        text-align: right;\n",
       "    }\n",
       "</style>\n",
       "<table border=\"1\" class=\"dataframe\">\n",
       "  <thead>\n",
       "    <tr style=\"text-align: right;\">\n",
       "      <th></th>\n",
       "      <th>Unnamed: 0</th>\n",
       "      <th>bpi</th>\n",
       "      <th>disclaimer</th>\n",
       "      <th>time</th>\n",
       "    </tr>\n",
       "  </thead>\n",
       "  <tbody>\n",
       "    <tr>\n",
       "      <th>0</th>\n",
       "      <td>2013-09-01</td>\n",
       "      <td>128.2597</td>\n",
       "      <td>This data was produced from the CoinDesk Bitco...</td>\n",
       "      <td>NaN</td>\n",
       "    </tr>\n",
       "    <tr>\n",
       "      <th>1</th>\n",
       "      <td>2013-09-02</td>\n",
       "      <td>127.3648</td>\n",
       "      <td>This data was produced from the CoinDesk Bitco...</td>\n",
       "      <td>NaN</td>\n",
       "    </tr>\n",
       "    <tr>\n",
       "      <th>2</th>\n",
       "      <td>2013-09-03</td>\n",
       "      <td>127.5915</td>\n",
       "      <td>This data was produced from the CoinDesk Bitco...</td>\n",
       "      <td>NaN</td>\n",
       "    </tr>\n",
       "    <tr>\n",
       "      <th>3</th>\n",
       "      <td>2013-09-04</td>\n",
       "      <td>120.5738</td>\n",
       "      <td>This data was produced from the CoinDesk Bitco...</td>\n",
       "      <td>NaN</td>\n",
       "    </tr>\n",
       "    <tr>\n",
       "      <th>4</th>\n",
       "      <td>2013-09-05</td>\n",
       "      <td>120.5333</td>\n",
       "      <td>This data was produced from the CoinDesk Bitco...</td>\n",
       "      <td>NaN</td>\n",
       "    </tr>\n",
       "  </tbody>\n",
       "</table>\n",
       "</div>"
      ],
      "text/plain": [
       "   Unnamed: 0       bpi                                         disclaimer  \\\n",
       "0  2013-09-01  128.2597  This data was produced from the CoinDesk Bitco...   \n",
       "1  2013-09-02  127.3648  This data was produced from the CoinDesk Bitco...   \n",
       "2  2013-09-03  127.5915  This data was produced from the CoinDesk Bitco...   \n",
       "3  2013-09-04  120.5738  This data was produced from the CoinDesk Bitco...   \n",
       "4  2013-09-05  120.5333  This data was produced from the CoinDesk Bitco...   \n",
       "\n",
       "  time  \n",
       "0  NaN  \n",
       "1  NaN  \n",
       "2  NaN  \n",
       "3  NaN  \n",
       "4  NaN  "
      ]
     },
     "execution_count": 5,
     "metadata": {},
     "output_type": "execute_result"
    }
   ],
   "source": [
    "btc_data.head()"
   ]
  },
  {
   "cell_type": "code",
   "execution_count": 6,
   "metadata": {},
   "outputs": [
    {
     "data": {
      "text/html": [
       "<div>\n",
       "<style scoped>\n",
       "    .dataframe tbody tr th:only-of-type {\n",
       "        vertical-align: middle;\n",
       "    }\n",
       "\n",
       "    .dataframe tbody tr th {\n",
       "        vertical-align: top;\n",
       "    }\n",
       "\n",
       "    .dataframe thead th {\n",
       "        text-align: right;\n",
       "    }\n",
       "</style>\n",
       "<table border=\"1\" class=\"dataframe\">\n",
       "  <thead>\n",
       "    <tr style=\"text-align: right;\">\n",
       "      <th></th>\n",
       "      <th>Unnamed: 0</th>\n",
       "      <th>rates</th>\n",
       "      <th>start_at</th>\n",
       "      <th>base</th>\n",
       "      <th>end_at</th>\n",
       "    </tr>\n",
       "  </thead>\n",
       "  <tbody>\n",
       "    <tr>\n",
       "      <th>0</th>\n",
       "      <td>2013-09-02</td>\n",
       "      <td>{'USD': 0.0752445576}</td>\n",
       "      <td>2013-08-31</td>\n",
       "      <td>MXN</td>\n",
       "      <td>2018-09-01</td>\n",
       "    </tr>\n",
       "    <tr>\n",
       "      <th>1</th>\n",
       "      <td>2013-09-03</td>\n",
       "      <td>{'USD': 0.0744879378}</td>\n",
       "      <td>2013-08-31</td>\n",
       "      <td>MXN</td>\n",
       "      <td>2018-09-01</td>\n",
       "    </tr>\n",
       "    <tr>\n",
       "      <th>2</th>\n",
       "      <td>2013-09-04</td>\n",
       "      <td>{'USD': 0.0750215023}</td>\n",
       "      <td>2013-08-31</td>\n",
       "      <td>MXN</td>\n",
       "      <td>2018-09-01</td>\n",
       "    </tr>\n",
       "    <tr>\n",
       "      <th>3</th>\n",
       "      <td>2013-09-05</td>\n",
       "      <td>{'USD': 0.0745808289}</td>\n",
       "      <td>2013-08-31</td>\n",
       "      <td>MXN</td>\n",
       "      <td>2018-09-01</td>\n",
       "    </tr>\n",
       "    <tr>\n",
       "      <th>4</th>\n",
       "      <td>2013-09-06</td>\n",
       "      <td>{'USD': 0.075046915}</td>\n",
       "      <td>2013-08-31</td>\n",
       "      <td>MXN</td>\n",
       "      <td>2018-09-01</td>\n",
       "    </tr>\n",
       "  </tbody>\n",
       "</table>\n",
       "</div>"
      ],
      "text/plain": [
       "   Unnamed: 0                  rates    start_at base      end_at\n",
       "0  2013-09-02  {'USD': 0.0752445576}  2013-08-31  MXN  2018-09-01\n",
       "1  2013-09-03  {'USD': 0.0744879378}  2013-08-31  MXN  2018-09-01\n",
       "2  2013-09-04  {'USD': 0.0750215023}  2013-08-31  MXN  2018-09-01\n",
       "3  2013-09-05  {'USD': 0.0745808289}  2013-08-31  MXN  2018-09-01\n",
       "4  2013-09-06   {'USD': 0.075046915}  2013-08-31  MXN  2018-09-01"
      ]
     },
     "execution_count": 6,
     "metadata": {},
     "output_type": "execute_result"
    }
   ],
   "source": [
    "peso_data.head()"
   ]
  },
  {
   "cell_type": "code",
   "execution_count": 5,
   "metadata": {},
   "outputs": [
    {
     "data": {
      "text/html": [
       "<div>\n",
       "<style scoped>\n",
       "    .dataframe tbody tr th:only-of-type {\n",
       "        vertical-align: middle;\n",
       "    }\n",
       "\n",
       "    .dataframe tbody tr th {\n",
       "        vertical-align: top;\n",
       "    }\n",
       "\n",
       "    .dataframe thead th {\n",
       "        text-align: right;\n",
       "    }\n",
       "</style>\n",
       "<table border=\"1\" class=\"dataframe\">\n",
       "  <thead>\n",
       "    <tr style=\"text-align: right;\">\n",
       "      <th></th>\n",
       "      <th>BTC to USD</th>\n",
       "    </tr>\n",
       "    <tr>\n",
       "      <th>Date</th>\n",
       "      <th></th>\n",
       "    </tr>\n",
       "  </thead>\n",
       "  <tbody>\n",
       "    <tr>\n",
       "      <th>2013-09-01</th>\n",
       "      <td>128.2597</td>\n",
       "    </tr>\n",
       "    <tr>\n",
       "      <th>2013-09-02</th>\n",
       "      <td>127.3648</td>\n",
       "    </tr>\n",
       "    <tr>\n",
       "      <th>2013-09-03</th>\n",
       "      <td>127.5915</td>\n",
       "    </tr>\n",
       "    <tr>\n",
       "      <th>2013-09-04</th>\n",
       "      <td>120.5738</td>\n",
       "    </tr>\n",
       "    <tr>\n",
       "      <th>2013-09-05</th>\n",
       "      <td>120.5333</td>\n",
       "    </tr>\n",
       "  </tbody>\n",
       "</table>\n",
       "</div>"
      ],
      "text/plain": [
       "            BTC to USD\n",
       "Date                  \n",
       "2013-09-01    128.2597\n",
       "2013-09-02    127.3648\n",
       "2013-09-03    127.5915\n",
       "2013-09-04    120.5738\n",
       "2013-09-05    120.5333"
      ]
     },
     "execution_count": 5,
     "metadata": {},
     "output_type": "execute_result"
    }
   ],
   "source": [
    "#Cleaning up Bitcoin data, removing extra rows and columns\n",
    "btc_df = btc_data.drop(index=[1831, 1832], columns=['disclaimer', 'time'])\n",
    "#Renaming columns to more uniform names\n",
    "btc_df.rename(columns={'Unnamed: 0':'Date','bpi':'BTC to USD'}, inplace=True)\n",
    "#Grouping by date\n",
    "btc_grp = btc_df.groupby('Date').sum()\n",
    "#Displaying sample\n",
    "btc_grp.head()"
   ]
  },
  {
   "cell_type": "code",
   "execution_count": 6,
   "metadata": {},
   "outputs": [
    {
     "data": {
      "text/html": [
       "<div>\n",
       "<style scoped>\n",
       "    .dataframe tbody tr th:only-of-type {\n",
       "        vertical-align: middle;\n",
       "    }\n",
       "\n",
       "    .dataframe tbody tr th {\n",
       "        vertical-align: top;\n",
       "    }\n",
       "\n",
       "    .dataframe thead th {\n",
       "        text-align: right;\n",
       "    }\n",
       "</style>\n",
       "<table border=\"1\" class=\"dataframe\">\n",
       "  <thead>\n",
       "    <tr style=\"text-align: right;\">\n",
       "      <th></th>\n",
       "      <th>MXN to USD</th>\n",
       "    </tr>\n",
       "    <tr>\n",
       "      <th>Date</th>\n",
       "      <th></th>\n",
       "    </tr>\n",
       "  </thead>\n",
       "  <tbody>\n",
       "    <tr>\n",
       "      <th>2013-09-02</th>\n",
       "      <td>0.0752445576</td>\n",
       "    </tr>\n",
       "    <tr>\n",
       "      <th>2013-09-03</th>\n",
       "      <td>0.0744879378</td>\n",
       "    </tr>\n",
       "    <tr>\n",
       "      <th>2013-09-04</th>\n",
       "      <td>0.0750215023</td>\n",
       "    </tr>\n",
       "    <tr>\n",
       "      <th>2013-09-05</th>\n",
       "      <td>0.0745808289</td>\n",
       "    </tr>\n",
       "    <tr>\n",
       "      <th>2013-09-06</th>\n",
       "      <td>0.075046915</td>\n",
       "    </tr>\n",
       "  </tbody>\n",
       "</table>\n",
       "</div>"
      ],
      "text/plain": [
       "               MXN to USD\n",
       "Date                     \n",
       "2013-09-02   0.0752445576\n",
       "2013-09-03   0.0744879378\n",
       "2013-09-04   0.0750215023\n",
       "2013-09-05   0.0745808289\n",
       "2013-09-06    0.075046915"
      ]
     },
     "execution_count": 6,
     "metadata": {},
     "output_type": "execute_result"
    }
   ],
   "source": [
    "#Cleaning up Mexican Peso data, removing extra rows and columns\n",
    "peso_df = peso_data.drop(['start_at', 'base', 'end_at'], axis=1)\n",
    "#Renaming columns to more uniform names\n",
    "peso_df.rename(columns={'Unnamed: 0':'Date', 'rates':'MXN to USD'}, inplace=True)\n",
    "#Grouping by date\n",
    "peso_grp = peso_df.groupby('Date').sum()\n",
    "#Removing special characters (except for . to maintain decimals)\n",
    "peso_grp['MXN to USD'] = peso_grp['MXN to USD'].str.replace(\"'USD':\", '').str.strip('{}')\n",
    "#Displaying sample\n",
    "peso_grp.head()"
   ]
  },
  {
   "cell_type": "code",
   "execution_count": 7,
   "metadata": {},
   "outputs": [
    {
     "data": {
      "text/html": [
       "<div>\n",
       "<style scoped>\n",
       "    .dataframe tbody tr th:only-of-type {\n",
       "        vertical-align: middle;\n",
       "    }\n",
       "\n",
       "    .dataframe tbody tr th {\n",
       "        vertical-align: top;\n",
       "    }\n",
       "\n",
       "    .dataframe thead th {\n",
       "        text-align: right;\n",
       "    }\n",
       "</style>\n",
       "<table border=\"1\" class=\"dataframe\">\n",
       "  <thead>\n",
       "    <tr style=\"text-align: right;\">\n",
       "      <th></th>\n",
       "      <th>CAD to USD</th>\n",
       "    </tr>\n",
       "    <tr>\n",
       "      <th>Date</th>\n",
       "      <th></th>\n",
       "    </tr>\n",
       "  </thead>\n",
       "  <tbody>\n",
       "    <tr>\n",
       "      <th>2013-09-02</th>\n",
       "      <td>0.9496656360000001</td>\n",
       "    </tr>\n",
       "    <tr>\n",
       "      <th>2013-09-03</th>\n",
       "      <td>0.9500865551000001</td>\n",
       "    </tr>\n",
       "    <tr>\n",
       "      <th>2013-09-04</th>\n",
       "      <td>0.9534530187</td>\n",
       "    </tr>\n",
       "    <tr>\n",
       "      <th>2013-09-05</th>\n",
       "      <td>0.9541085495</td>\n",
       "    </tr>\n",
       "    <tr>\n",
       "      <th>2013-09-06</th>\n",
       "      <td>0.9587048677000001</td>\n",
       "    </tr>\n",
       "  </tbody>\n",
       "</table>\n",
       "</div>"
      ],
      "text/plain": [
       "                     CAD to USD\n",
       "Date                           \n",
       "2013-09-02   0.9496656360000001\n",
       "2013-09-03   0.9500865551000001\n",
       "2013-09-04         0.9534530187\n",
       "2013-09-05         0.9541085495\n",
       "2013-09-06   0.9587048677000001"
      ]
     },
     "execution_count": 7,
     "metadata": {},
     "output_type": "execute_result"
    }
   ],
   "source": [
    "#Cleaning up Canadian Dollar data, removing extra rows and columns\n",
    "cad_df = cad_data.drop(['start_at', 'base', 'end_at'], axis=1)\n",
    "#Renaming columns to more uniform names\n",
    "cad_df.rename(columns={'Unnamed: 0':'Date', 'rates':'CAD to USD'}, inplace=True)\n",
    "#Grouping by date\n",
    "cad_grp = cad_df.groupby('Date').sum()\n",
    "#Removing special characters (except for . to maintain decimals)\n",
    "cad_grp['CAD to USD'] = cad_grp['CAD to USD'].str.replace(\"'USD':\", '').str.strip('{}')\n",
    "#Displaying sample\n",
    "cad_grp.head()"
   ]
  },
  {
   "cell_type": "code",
<<<<<<< HEAD
   "execution_count": 7,
=======
   "execution_count": 8,
>>>>>>> a00309dc74c782b564498c5c0a32a2746daedc1a
   "metadata": {},
   "outputs": [
    {
     "data": {
      "text/html": [
       "<div>\n",
       "<style scoped>\n",
       "    .dataframe tbody tr th:only-of-type {\n",
       "        vertical-align: middle;\n",
       "    }\n",
       "\n",
       "    .dataframe tbody tr th {\n",
       "        vertical-align: top;\n",
       "    }\n",
       "\n",
       "    .dataframe thead th {\n",
       "        text-align: right;\n",
       "    }\n",
       "</style>\n",
       "<table border=\"1\" class=\"dataframe\">\n",
       "  <thead>\n",
       "    <tr style=\"text-align: right;\">\n",
       "      <th></th>\n",
       "      <th>CAD to USD</th>\n",
       "      <th>MXN to USD</th>\n",
       "      <th>BTC to USD</th>\n",
       "    </tr>\n",
       "    <tr>\n",
       "      <th>Date</th>\n",
       "      <th></th>\n",
       "      <th></th>\n",
       "      <th></th>\n",
       "    </tr>\n",
       "  </thead>\n",
       "  <tbody>\n",
       "    <tr>\n",
       "      <th>2013-09-02</th>\n",
       "      <td>0.9496656360000001</td>\n",
       "      <td>0.0752445576</td>\n",
       "      <td>127.3648</td>\n",
       "    </tr>\n",
       "    <tr>\n",
       "      <th>2013-09-03</th>\n",
       "      <td>0.9500865551000001</td>\n",
       "      <td>0.0744879378</td>\n",
       "      <td>127.5915</td>\n",
       "    </tr>\n",
       "    <tr>\n",
       "      <th>2013-09-04</th>\n",
       "      <td>0.9534530187</td>\n",
       "      <td>0.0750215023</td>\n",
       "      <td>120.5738</td>\n",
       "    </tr>\n",
       "    <tr>\n",
       "      <th>2013-09-05</th>\n",
       "      <td>0.9541085495</td>\n",
       "      <td>0.0745808289</td>\n",
       "      <td>120.5333</td>\n",
       "    </tr>\n",
       "    <tr>\n",
       "      <th>2013-09-06</th>\n",
       "      <td>0.9587048677000001</td>\n",
       "      <td>0.075046915</td>\n",
       "      <td>116.3210</td>\n",
       "    </tr>\n",
       "  </tbody>\n",
       "</table>\n",
       "</div>"
      ],
      "text/plain": [
       "                     CAD to USD     MXN to USD  BTC to USD\n",
       "Date                                                      \n",
       "2013-09-02   0.9496656360000001   0.0752445576    127.3648\n",
       "2013-09-03   0.9500865551000001   0.0744879378    127.5915\n",
       "2013-09-04         0.9534530187   0.0750215023    120.5738\n",
       "2013-09-05         0.9541085495   0.0745808289    120.5333\n",
       "2013-09-06   0.9587048677000001    0.075046915    116.3210"
      ]
     },
<<<<<<< HEAD
     "execution_count": 7,
=======
     "execution_count": 8,
>>>>>>> a00309dc74c782b564498c5c0a32a2746daedc1a
     "metadata": {},
     "output_type": "execute_result"
    }
   ],
   "source": [
    "#Concatenating lists, index set to Date\n",
    "currency_data = pd.concat([cad_grp, peso_grp, btc_grp], axis=\"columns\", join=\"inner\")\n",
    "#Exporting DataFrame to CSV file currency_data.csv\n",
    "currency_data.to_csv(\"currency_data.csv\")\n",
    "#Displaying sample\n",
    "currency_data.head()"
   ]
  },
  {
   "cell_type": "code",
<<<<<<< HEAD
   "execution_count": 8,
   "metadata": {},
   "outputs": [],
   "source": [
    "currency_data['CAD to USD'] = currency_data['CAD to USD'].astype(\"float\")"
   ]
  },
  {
   "cell_type": "code",
   "execution_count": 9,
   "metadata": {},
   "outputs": [],
   "source": [
    "currency_data['MXN to USD'] = currency_data['MXN to USD'].astype(\"float\")"
   ]
  },
  {
   "cell_type": "code",
   "execution_count": 10,
   "metadata": {},
   "outputs": [
    {
     "data": {
      "text/plain": [
       "CAD to USD    float64\n",
       "MXN to USD    float64\n",
       "BTC to USD    float64\n",
       "dtype: object"
      ]
     },
     "execution_count": 10,
     "metadata": {},
     "output_type": "execute_result"
    }
   ],
   "source": [
    "currency_data.dtypes"
   ]
  },
  {
   "cell_type": "code",
   "execution_count": 11,
   "metadata": {},
   "outputs": [
    {
     "data": {
      "image/png": "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\n",
      "text/plain": [
       "<Figure size 720x720 with 1 Axes>"
      ]
     },
     "metadata": {
      "needs_background": "light"
     },
     "output_type": "display_data"
    }
   ],
   "source": [
    "currency_data.plot(figsize=(10,10));"
   ]
  },
  {
   "cell_type": "code",
   "execution_count": 12,
   "metadata": {},
   "outputs": [
    {
     "data": {
      "image/png": "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\n",
      "text/plain": [
       "<Figure size 720x720 with 1 Axes>"
      ]
     },
     "metadata": {
      "needs_background": "light"
     },
     "output_type": "display_data"
    }
   ],
   "source": [
    "currency_data[['MXN to USD','CAD to USD']].plot(figsize=(10,10));"
   ]
  },
  {
   "cell_type": "code",
   "execution_count": 34,
   "metadata": {},
=======
   "execution_count": 9,
   "metadata": {},
>>>>>>> a00309dc74c782b564498c5c0a32a2746daedc1a
   "outputs": [
    {
     "data": {
      "text/html": [
       "<div>\n",
       "<style scoped>\n",
       "    .dataframe tbody tr th:only-of-type {\n",
       "        vertical-align: middle;\n",
       "    }\n",
       "\n",
       "    .dataframe tbody tr th {\n",
       "        vertical-align: top;\n",
       "    }\n",
       "\n",
       "    .dataframe thead th {\n",
       "        text-align: right;\n",
       "    }\n",
       "</style>\n",
       "<table border=\"1\" class=\"dataframe\">\n",
       "  <thead>\n",
       "    <tr style=\"text-align: right;\">\n",
       "      <th></th>\n",
       "      <th>GDP</th>\n",
       "    </tr>\n",
       "    <tr>\n",
       "      <th>Date</th>\n",
       "      <th></th>\n",
       "    </tr>\n",
       "  </thead>\n",
       "  <tbody>\n",
       "    <tr>\n",
       "      <th>2013-07-01</th>\n",
       "      <td>16848.748</td>\n",
       "    </tr>\n",
       "    <tr>\n",
       "      <th>2013-10-01</th>\n",
       "      <td>17083.137</td>\n",
       "    </tr>\n",
       "    <tr>\n",
       "      <th>2014-01-01</th>\n",
       "      <td>17104.555</td>\n",
       "    </tr>\n",
       "    <tr>\n",
       "      <th>2014-04-01</th>\n",
       "      <td>17432.909</td>\n",
       "    </tr>\n",
       "    <tr>\n",
       "      <th>2014-07-01</th>\n",
       "      <td>17721.657</td>\n",
       "    </tr>\n",
       "  </tbody>\n",
       "</table>\n",
       "</div>"
      ],
      "text/plain": [
       "                  GDP\n",
       "Date                 \n",
       "2013-07-01  16848.748\n",
       "2013-10-01  17083.137\n",
       "2014-01-01  17104.555\n",
       "2014-04-01  17432.909\n",
       "2014-07-01  17721.657"
      ]
     },
<<<<<<< HEAD
     "execution_count": 34,
=======
     "execution_count": 9,
>>>>>>> a00309dc74c782b564498c5c0a32a2746daedc1a
     "metadata": {},
     "output_type": "execute_result"
    }
   ],
   "source": [
<<<<<<< HEAD
    "gdp = pd.read_csv('GDP.csv',infer_datetime_format=True, parse_dates=True)\n",
    "gdp = gdp.rename(columns={'DATE':'Date'})\n",
    "gdp = gdp.set_index('Date')\n",
    "gdp.head()"
=======
    "#Reading in GDP data\n",
    "gdp_data = pd.read_csv(\"GDP.csv\")\n",
    "#Renaming index for uniformity\n",
    "gdp_data.rename(columns={\"DATE\":\"Date\"}, inplace=True)\n",
    "gdp_grp = gdp_data.groupby('Date').sum()\n",
    "#Displaying sample\n",
    "gdp_grp.head()"
>>>>>>> a00309dc74c782b564498c5c0a32a2746daedc1a
   ]
  },
  {
   "cell_type": "code",
<<<<<<< HEAD
   "execution_count": 52,
   "metadata": {},
   "outputs": [
    {
     "name": "stdout",
     "output_type": "stream",
     "text": [
      "AxesSubplot(0.125,0.125;0.775x0.755)\n"
     ]
    },
    {
     "data": {
      "text/plain": [
       "<AxesSubplot:xlabel='Date'>"
      ]
     },
     "execution_count": 52,
     "metadata": {},
     "output_type": "execute_result"
    },
    {
     "data": {
      "image/png": "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\n",
      "text/plain": [
       "<Figure size 720x720 with 1 Axes>"
      ]
     },
     "metadata": {
      "needs_background": "light"
     },
     "output_type": "display_data"
    },
    {
     "data": {
      "image/png": "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\n",
      "text/plain": [
       "<Figure size 720x720 with 1 Axes>"
      ]
     },
     "metadata": {
      "needs_background": "light"
     },
     "output_type": "display_data"
    }
   ],
   "source": [
    "print(gdp.plot(figsize=(10,10)))\n",
    "currency_data[['MXN to USD','CAD to USD']].plot(figsize=(10,10))"
   ]
  },
  {
   "cell_type": "code",
   "execution_count": 36,
=======
   "execution_count": 10,
>>>>>>> a00309dc74c782b564498c5c0a32a2746daedc1a
   "metadata": {},
   "outputs": [
    {
     "data": {
      "text/html": [
       "<div>\n",
       "<style scoped>\n",
       "    .dataframe tbody tr th:only-of-type {\n",
       "        vertical-align: middle;\n",
       "    }\n",
       "\n",
       "    .dataframe tbody tr th {\n",
       "        vertical-align: top;\n",
       "    }\n",
       "\n",
       "    .dataframe thead th {\n",
       "        text-align: right;\n",
       "    }\n",
       "</style>\n",
       "<table border=\"1\" class=\"dataframe\">\n",
       "  <thead>\n",
       "    <tr style=\"text-align: right;\">\n",
       "      <th></th>\n",
<<<<<<< HEAD
       "      <th>GDP</th>\n",
       "      <th>CAD to USD</th>\n",
       "      <th>MXN to USD</th>\n",
       "      <th>BTC to USD</th>\n",
       "    </tr>\n",
       "    <tr>\n",
       "      <th>Date</th>\n",
       "      <th></th>\n",
       "      <th></th>\n",
       "      <th></th>\n",
       "      <th></th>\n",
=======
       "      <th>CAD to USD</th>\n",
       "      <th>MXN to USD</th>\n",
       "      <th>BTC to USD</th>\n",
       "      <th>GDP</th>\n",
>>>>>>> a00309dc74c782b564498c5c0a32a2746daedc1a
       "    </tr>\n",
       "  </thead>\n",
       "  <tbody>\n",
       "    <tr>\n",
       "      <th>2013-10-01</th>\n",
<<<<<<< HEAD
       "      <td>17083.137</td>\n",
       "      <td>0.970778</td>\n",
       "      <td>0.076122</td>\n",
       "      <td>125.4938</td>\n",
       "    </tr>\n",
       "    <tr>\n",
       "      <th>2014-04-01</th>\n",
       "      <td>17432.909</td>\n",
       "      <td>0.904796</td>\n",
       "      <td>0.076499</td>\n",
       "      <td>478.7163</td>\n",
       "    </tr>\n",
       "    <tr>\n",
       "      <th>2014-07-01</th>\n",
       "      <td>17721.657</td>\n",
       "      <td>0.938370</td>\n",
       "      <td>0.077003</td>\n",
       "      <td>635.5905</td>\n",
       "    </tr>\n",
       "    <tr>\n",
       "      <th>2014-10-01</th>\n",
       "      <td>17849.912</td>\n",
       "      <td>0.891364</td>\n",
       "      <td>0.074410</td>\n",
       "      <td>381.3324</td>\n",
       "    </tr>\n",
       "    <tr>\n",
       "      <th>2015-04-01</th>\n",
       "      <td>18223.577</td>\n",
       "      <td>0.788952</td>\n",
       "      <td>0.065641</td>\n",
       "      <td>246.5548</td>\n",
       "    </tr>\n",
       "    <tr>\n",
       "      <th>2015-07-01</th>\n",
       "      <td>18347.425</td>\n",
       "      <td>0.798446</td>\n",
       "      <td>0.063613</td>\n",
       "      <td>257.6604</td>\n",
       "    </tr>\n",
       "    <tr>\n",
       "      <th>2015-10-01</th>\n",
       "      <td>18378.803</td>\n",
       "      <td>0.753632</td>\n",
       "      <td>0.059310</td>\n",
       "      <td>237.5698</td>\n",
       "    </tr>\n",
       "    <tr>\n",
       "      <th>2016-04-01</th>\n",
       "      <td>18656.207</td>\n",
       "      <td>0.767557</td>\n",
       "      <td>0.057448</td>\n",
       "      <td>417.0090</td>\n",
       "    </tr>\n",
       "    <tr>\n",
       "      <th>2016-07-01</th>\n",
       "      <td>18821.359</td>\n",
       "      <td>0.773801</td>\n",
       "      <td>0.055175</td>\n",
       "      <td>676.5230</td>\n",
=======
       "      <td>0.9707778255</td>\n",
       "      <td>0.0761216914</td>\n",
       "      <td>125.4938</td>\n",
       "      <td>17083.137</td>\n",
       "    </tr>\n",
       "    <tr>\n",
       "      <th>2014-04-01</th>\n",
       "      <td>0.9047962732</td>\n",
       "      <td>0.07649933710000001</td>\n",
       "      <td>478.7163</td>\n",
       "      <td>17432.909</td>\n",
       "    </tr>\n",
       "    <tr>\n",
       "      <th>2014-07-01</th>\n",
       "      <td>0.9383697813</td>\n",
       "      <td>0.0770031335</td>\n",
       "      <td>635.5905</td>\n",
       "      <td>17721.657</td>\n",
       "    </tr>\n",
       "    <tr>\n",
       "      <th>2014-10-01</th>\n",
       "      <td>0.8913643115000001</td>\n",
       "      <td>0.0744101741</td>\n",
       "      <td>381.3324</td>\n",
       "      <td>17849.912</td>\n",
       "    </tr>\n",
       "    <tr>\n",
       "      <th>2015-04-01</th>\n",
       "      <td>0.7889524648</td>\n",
       "      <td>0.0656405061</td>\n",
       "      <td>246.5548</td>\n",
       "      <td>18223.577</td>\n",
>>>>>>> a00309dc74c782b564498c5c0a32a2746daedc1a
       "    </tr>\n",
       "  </tbody>\n",
       "</table>\n",
       "</div>"
      ],
      "text/plain": [
<<<<<<< HEAD
       "                  GDP  CAD to USD  MXN to USD  BTC to USD\n",
       "Date                                                     \n",
       "2013-10-01  17083.137    0.970778    0.076122    125.4938\n",
       "2014-04-01  17432.909    0.904796    0.076499    478.7163\n",
       "2014-07-01  17721.657    0.938370    0.077003    635.5905\n",
       "2014-10-01  17849.912    0.891364    0.074410    381.3324\n",
       "2015-04-01  18223.577    0.788952    0.065641    246.5548\n",
       "2015-07-01  18347.425    0.798446    0.063613    257.6604\n",
       "2015-10-01  18378.803    0.753632    0.059310    237.5698\n",
       "2016-04-01  18656.207    0.767557    0.057448    417.0090\n",
       "2016-07-01  18821.359    0.773801    0.055175    676.5230"
      ]
     },
     "execution_count": 36,
=======
       "                     CAD to USD            MXN to USD  BTC to USD        GDP\n",
       "2013-10-01         0.9707778255          0.0761216914    125.4938  17083.137\n",
       "2014-04-01         0.9047962732   0.07649933710000001    478.7163  17432.909\n",
       "2014-07-01         0.9383697813          0.0770031335    635.5905  17721.657\n",
       "2014-10-01   0.8913643115000001          0.0744101741    381.3324  17849.912\n",
       "2015-04-01         0.7889524648          0.0656405061    246.5548  18223.577"
      ]
     },
     "execution_count": 10,
>>>>>>> a00309dc74c782b564498c5c0a32a2746daedc1a
     "metadata": {},
     "output_type": "execute_result"
    }
   ],
   "source": [
<<<<<<< HEAD
    "new_df = pd.concat([gdp, currency_data], axis=1, join='inner')\n",
    "new_df"
=======
    "#Creating new DataFrame with all data\n",
    "total_data = pd.concat([currency_data, gdp_grp], axis=\"columns\", join=\"outer\", sort=True)\n",
    "#Dropping all null values\n",
    "total_data = total_data.dropna()\n",
    "#Displaying sample data\n",
    "total_data.head()"
>>>>>>> a00309dc74c782b564498c5c0a32a2746daedc1a
   ]
  },
  {
   "cell_type": "code",
<<<<<<< HEAD
   "execution_count": 37,
   "metadata": {},
   "outputs": [],
   "source": [
    "from sklearn.preprocessing import StandardScaler"
=======
   "execution_count": 11,
   "metadata": {},
   "outputs": [],
   "source": [
    "#Reading in Bitcoin trading volume data\n",
    "cad_volume = pd.read_csv(\"cad_volume.csv\")\n",
    "usd_volume = pd.read_csv(\"usd_volume.csv\")\n",
    "mxn_volume = pd.read_csv(\"mxn_volume.csv\")\n",
    "\n",
    "#Renaming index for uniformity\n",
    "cad_volume.rename(columns={\"Label\":\"Date\"}, inplace=True)\n",
    "usd_volume.rename(columns={\"Label\":\"Date\"}, inplace=True)\n",
    "mxn_volume.rename(columns={\"Label\":\"Date\"}, inplace=True)"
>>>>>>> a00309dc74c782b564498c5c0a32a2746daedc1a
   ]
  },
  {
   "cell_type": "code",
<<<<<<< HEAD
   "execution_count": 49,
=======
   "execution_count": 12,
>>>>>>> a00309dc74c782b564498c5c0a32a2746daedc1a
   "metadata": {},
   "outputs": [
    {
     "data": {
      "text/html": [
       "<div>\n",
       "<style scoped>\n",
       "    .dataframe tbody tr th:only-of-type {\n",
       "        vertical-align: middle;\n",
       "    }\n",
       "\n",
       "    .dataframe tbody tr th {\n",
       "        vertical-align: top;\n",
       "    }\n",
       "\n",
       "    .dataframe thead th {\n",
       "        text-align: right;\n",
       "    }\n",
       "</style>\n",
       "<table border=\"1\" class=\"dataframe\">\n",
       "  <thead>\n",
       "    <tr style=\"text-align: right;\">\n",
       "      <th></th>\n",
<<<<<<< HEAD
       "      <th>GDP</th>\n",
       "      <th>CAD to USD</th>\n",
       "      <th>MXN to USD</th>\n",
       "      <th>BTC to USD</th>\n",
       "    </tr>\n",
       "    <tr>\n",
       "      <th>Date</th>\n",
       "      <th></th>\n",
       "      <th></th>\n",
       "      <th></th>\n",
       "      <th></th>\n",
=======
       "      <th>Date</th>\n",
       "      <th>Value</th>\n",
>>>>>>> a00309dc74c782b564498c5c0a32a2746daedc1a
       "    </tr>\n",
       "  </thead>\n",
       "  <tbody>\n",
       "    <tr>\n",
<<<<<<< HEAD
       "      <th>2013-10-01</th>\n",
       "      <td>-1.794385</td>\n",
       "      <td>1.634242</td>\n",
       "      <td>1.059581</td>\n",
       "      <td>-1.460525</td>\n",
       "    </tr>\n",
       "    <tr>\n",
       "      <th>2014-04-01</th>\n",
       "      <td>-1.150061</td>\n",
       "      <td>0.789845</td>\n",
       "      <td>1.104668</td>\n",
       "      <td>0.534748</td>\n",
       "    </tr>\n",
       "    <tr>\n",
       "      <th>2014-07-01</th>\n",
       "      <td>-0.618151</td>\n",
       "      <td>1.219501</td>\n",
       "      <td>1.164817</td>\n",
       "      <td>1.420895</td>\n",
       "    </tr>\n",
       "    <tr>\n",
       "      <th>2014-10-01</th>\n",
       "      <td>-0.381889</td>\n",
       "      <td>0.617949</td>\n",
       "      <td>0.855241</td>\n",
       "      <td>-0.015351</td>\n",
       "    </tr>\n",
       "    <tr>\n",
       "      <th>2015-04-01</th>\n",
       "      <td>0.306449</td>\n",
       "      <td>-0.692664</td>\n",
       "      <td>-0.191778</td>\n",
       "      <td>-0.776679</td>\n",
=======
       "      <th>0</th>\n",
       "      <td>2013-03-16</td>\n",
       "      <td>81.95</td>\n",
       "    </tr>\n",
       "    <tr>\n",
       "      <th>1</th>\n",
       "      <td>2013-03-23</td>\n",
       "      <td>42.77</td>\n",
       "    </tr>\n",
       "    <tr>\n",
       "      <th>2</th>\n",
       "      <td>2013-03-30</td>\n",
       "      <td>51.73</td>\n",
       "    </tr>\n",
       "    <tr>\n",
       "      <th>3</th>\n",
       "      <td>2013-04-06</td>\n",
       "      <td>131.33</td>\n",
       "    </tr>\n",
       "    <tr>\n",
       "      <th>4</th>\n",
       "      <td>2013-04-13</td>\n",
       "      <td>123.58</td>\n",
>>>>>>> a00309dc74c782b564498c5c0a32a2746daedc1a
       "    </tr>\n",
       "  </tbody>\n",
       "</table>\n",
       "</div>"
      ],
      "text/plain": [
<<<<<<< HEAD
       "                 GDP  CAD to USD  MXN to USD  BTC to USD\n",
       "Date                                                    \n",
       "2013-10-01 -1.794385    1.634242    1.059581   -1.460525\n",
       "2014-04-01 -1.150061    0.789845    1.104668    0.534748\n",
       "2014-07-01 -0.618151    1.219501    1.164817    1.420895\n",
       "2014-10-01 -0.381889    0.617949    0.855241   -0.015351\n",
       "2015-04-01  0.306449   -0.692664   -0.191778   -0.776679"
      ]
     },
     "execution_count": 49,
=======
       "         Date   Value\n",
       "0  2013-03-16   81.95\n",
       "1  2013-03-23   42.77\n",
       "2  2013-03-30   51.73\n",
       "3  2013-04-06  131.33\n",
       "4  2013-04-13  123.58"
      ]
     },
     "execution_count": 12,
>>>>>>> a00309dc74c782b564498c5c0a32a2746daedc1a
     "metadata": {},
     "output_type": "execute_result"
    }
   ],
   "source": [
<<<<<<< HEAD
    "scaled_df = pd.DataFrame(StandardScaler().fit_transform(new_df), columns=new_df.columns, index=new_df.index)\n",
    "scaled_df.head()"
=======
    "#Displaying sample data\n",
    "cad_volume.head()"
>>>>>>> a00309dc74c782b564498c5c0a32a2746daedc1a
   ]
  },
  {
   "cell_type": "code",
<<<<<<< HEAD
   "execution_count": 59,
=======
   "execution_count": 13,
>>>>>>> a00309dc74c782b564498c5c0a32a2746daedc1a
   "metadata": {},
   "outputs": [
    {
     "data": {
<<<<<<< HEAD
      "image/png": "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\n",
      "text/plain": [
       "<Figure size 1440x720 with 1 Axes>"
      ]
     },
     "metadata": {
      "needs_background": "light"
     },
     "output_type": "display_data"
    }
   ],
   "source": [
    "scaled_df.plot(figsize=(20,10),title='Trends', ylabel='Scaled Trend');"
=======
      "text/html": [
       "<div>\n",
       "<style scoped>\n",
       "    .dataframe tbody tr th:only-of-type {\n",
       "        vertical-align: middle;\n",
       "    }\n",
       "\n",
       "    .dataframe tbody tr th {\n",
       "        vertical-align: top;\n",
       "    }\n",
       "\n",
       "    .dataframe thead th {\n",
       "        text-align: right;\n",
       "    }\n",
       "</style>\n",
       "<table border=\"1\" class=\"dataframe\">\n",
       "  <thead>\n",
       "    <tr style=\"text-align: right;\">\n",
       "      <th></th>\n",
       "      <th>Date</th>\n",
       "      <th>Value</th>\n",
       "    </tr>\n",
       "  </thead>\n",
       "  <tbody>\n",
       "    <tr>\n",
       "      <th>0</th>\n",
       "      <td>2013-03-16</td>\n",
       "      <td>157.49</td>\n",
       "    </tr>\n",
       "    <tr>\n",
       "      <th>1</th>\n",
       "      <td>2013-03-23</td>\n",
       "      <td>325.71</td>\n",
       "    </tr>\n",
       "    <tr>\n",
       "      <th>2</th>\n",
       "      <td>2013-03-30</td>\n",
       "      <td>181.58</td>\n",
       "    </tr>\n",
       "    <tr>\n",
       "      <th>3</th>\n",
       "      <td>2013-04-06</td>\n",
       "      <td>451.16</td>\n",
       "    </tr>\n",
       "    <tr>\n",
       "      <th>4</th>\n",
       "      <td>2013-04-13</td>\n",
       "      <td>700.71</td>\n",
       "    </tr>\n",
       "  </tbody>\n",
       "</table>\n",
       "</div>"
      ],
      "text/plain": [
       "         Date   Value\n",
       "0  2013-03-16  157.49\n",
       "1  2013-03-23  325.71\n",
       "2  2013-03-30  181.58\n",
       "3  2013-04-06  451.16\n",
       "4  2013-04-13  700.71"
      ]
     },
     "execution_count": 13,
     "metadata": {},
     "output_type": "execute_result"
    }
   ],
   "source": [
    "#Displaying sample data\n",
    "usd_volume.head()"
>>>>>>> a00309dc74c782b564498c5c0a32a2746daedc1a
   ]
  },
  {
   "cell_type": "code",
<<<<<<< HEAD
   "execution_count": 1,
   "metadata": {},
   "outputs": [],
   "source": [
    "## test test\n"
=======
   "execution_count": 14,
   "metadata": {},
   "outputs": [
    {
     "data": {
      "text/html": [
       "<div>\n",
       "<style scoped>\n",
       "    .dataframe tbody tr th:only-of-type {\n",
       "        vertical-align: middle;\n",
       "    }\n",
       "\n",
       "    .dataframe tbody tr th {\n",
       "        vertical-align: top;\n",
       "    }\n",
       "\n",
       "    .dataframe thead th {\n",
       "        text-align: right;\n",
       "    }\n",
       "</style>\n",
       "<table border=\"1\" class=\"dataframe\">\n",
       "  <thead>\n",
       "    <tr style=\"text-align: right;\">\n",
       "      <th></th>\n",
       "      <th>Date</th>\n",
       "      <th>Value</th>\n",
       "    </tr>\n",
       "  </thead>\n",
       "  <tbody>\n",
       "    <tr>\n",
       "      <th>0</th>\n",
       "      <td>2013-03-16</td>\n",
       "      <td>261.18</td>\n",
       "    </tr>\n",
       "    <tr>\n",
       "      <th>1</th>\n",
       "      <td>2013-03-23</td>\n",
       "      <td>6.10</td>\n",
       "    </tr>\n",
       "    <tr>\n",
       "      <th>2</th>\n",
       "      <td>2013-03-30</td>\n",
       "      <td>12.09</td>\n",
       "    </tr>\n",
       "    <tr>\n",
       "      <th>3</th>\n",
       "      <td>2013-04-06</td>\n",
       "      <td>1.00</td>\n",
       "    </tr>\n",
       "    <tr>\n",
       "      <th>4</th>\n",
       "      <td>2013-04-13</td>\n",
       "      <td>5.67</td>\n",
       "    </tr>\n",
       "  </tbody>\n",
       "</table>\n",
       "</div>"
      ],
      "text/plain": [
       "         Date   Value\n",
       "0  2013-03-16  261.18\n",
       "1  2013-03-23    6.10\n",
       "2  2013-03-30   12.09\n",
       "3  2013-04-06    1.00\n",
       "4  2013-04-13    5.67"
      ]
     },
     "execution_count": 14,
     "metadata": {},
     "output_type": "execute_result"
    }
   ],
   "source": [
    "#Displaying sample data\n",
    "mxn_volume.head()"
>>>>>>> a00309dc74c782b564498c5c0a32a2746daedc1a
   ]
  },
  {
   "cell_type": "code",
   "execution_count": null,
   "metadata": {},
   "outputs": [],
   "source": []
  }
 ],
 "metadata": {
  "kernelspec": {
   "display_name": "Python 3",
   "language": "python",
   "name": "python3"
  },
  "language_info": {
   "codemirror_mode": {
    "name": "ipython",
    "version": 3
   },
   "file_extension": ".py",
   "mimetype": "text/x-python",
   "name": "python",
   "nbconvert_exporter": "python",
   "pygments_lexer": "ipython3",
   "version": "3.7.9"
  }
 },
 "nbformat": 4,
 "nbformat_minor": 5
}
